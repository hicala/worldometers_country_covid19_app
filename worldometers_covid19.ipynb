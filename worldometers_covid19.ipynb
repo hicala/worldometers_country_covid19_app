{
 "cells": [
  {
   "cell_type": "markdown",
   "metadata": {},
   "source": [
    "# Web Scraping using Beautiful Soup\n",
    "\n",
    "## Summary\n",
    "\n",
    "I am using Beautiful Soup for the this Python app. Beautiful Soup is a Python library for parsing data out of HTML and XML files (aka webpages). It works with your favorite parser to provide idiomatic ways of navigating, searching, and modifying the parse tree.\n",
    "\n",
    "The major concept with Beautiful Soup is that it allows you to access elements of your page by following the CSS structures, such as grabbing all links, all headers, specific classes, or more. It is a powerful library. Once we grab elements, Python makes it easy to write the elements or relevant components of the elements into other files, such as a CSV, that can be stored in a database or opened in other software.\n",
    "\n",
    "The data I used came from Coronavirus Update from COVID-19 Virus Pandemic - Worldometer. Reference:https://www.worldometers.info/coronavirus/\n",
    "\n",
    "![Home Page](images/home.png)\n",
    "\n",
    "## Main goal\n",
    "\n",
    "+ To access all of the content from the source code of the webpage with Python\n",
    "+ Parse and extract data. \n",
    "+ Save the info in CSV file for further analysis.\n",
    "\n",
    "## Methodology\n",
    "\n",
    "1. Import Modules\n",
    "2. Get the URL link\n",
    "3. Navigate the URL Data Structure\n",
    "4. Testing out data requests\n",
    "5. Write data to a file in pseudo-code:\n",
    "    + Open up a file to write in and append data. \n",
    "    + Write headers\n",
    "    + Clear HTML tag and assign to text textall\n",
    "    + Cleans irrelevant data from the text and assigns it to an array\n",
    "    + Iterate over the results array to obtain the data and Write to file items No, Country, Total Case, New Case, Total Deaths, New Deaths, Total Recovered, Active Case, Serious, Critical, Tot Cases/1M pop, Deaths/1M pop, Total Tests, Tests/1M pop, Population and Continent\n",
    "    + When complete, close the file\n",
    "6. The output file in CSV format.\n",
    "\n",
    "## Data info extracted:\n",
    "No, Country, Total Case, New Case, Total Deaths, New Deaths, Total Recovered, Active Case, Serious, Critical, Tot Cases/1M pop, Deaths/1M pop, Total Tests, Tests/1M pop, Population and Continent of the Coronavirus Update from COVID-19 Virus Pandemic - Worldometer, Now\n",
    "\n",
    "![Worldometer](images/Worldometer1.png)"
   ]
  },
  {
   "cell_type": "markdown",
   "metadata": {},
   "source": [
    "If you don't have Beautiful Soup, install with 'conda install beautifulsoup' in terminal.\n",
    "\n",
    "Python requires us to explicitly load the libraries that we want to use:"
   ]
  },
  {
   "cell_type": "code",
   "execution_count": 1,
   "metadata": {},
   "outputs": [],
   "source": [
    "# If you don't have Beautiful Soup, install with 'conda install beautifulsoup' in terminal\n",
    "# Python requires us to explicitly load the libraries that we want to use:\n",
    "import requests\n",
    "import bs4\n",
    "import re"
   ]
  },
  {
   "cell_type": "markdown",
   "metadata": {},
   "source": [
    "Load a webpage into python so that we can parse it and manipulate it."
   ]
  },
  {
   "cell_type": "code",
   "execution_count": 2,
   "metadata": {},
   "outputs": [],
   "source": [
    "# Load a webpage into python so that we can parse it and manipulate it.\n",
    "URL = 'https://www.worldometers.info/coronavirus/'"
   ]
  },
  {
   "cell_type": "markdown",
   "metadata": {},
   "source": [
    "Control of Connection. We just turned the website code into a Python object. "
   ]
  },
  {
   "cell_type": "code",
   "execution_count": 3,
   "metadata": {},
   "outputs": [],
   "source": [
    "# Control of Connection\n",
    "# We just turned the website code into a Python object. \n",
    "response = requests.get(URL)\n",
    "soup = bs4.BeautifulSoup(response.text, \"html.parser\")"
   ]
  },
  {
   "cell_type": "markdown",
   "metadata": {},
   "source": [
    "Find all the tags with class main_table_countries_today"
   ]
  },
  {
   "cell_type": "code",
   "execution_count": 4,
   "metadata": {},
   "outputs": [],
   "source": [
    "# find all the tags with class total Country data\n",
    "data = soup.findAll(attrs={'id':['main_table_countries_today']})"
   ]
  },
  {
   "cell_type": "markdown",
   "metadata": {},
   "source": [
    "Open new file, make sure path to your data file is correct.\n",
    "\n",
    "Later, I write headers"
   ]
  },
  {
   "cell_type": "code",
   "execution_count": 5,
   "metadata": {},
   "outputs": [
    {
     "data": {
      "text/plain": [
       "178"
      ]
     },
     "execution_count": 5,
     "metadata": {},
     "output_type": "execute_result"
    }
   ],
   "source": [
    "f = open('worldometers_covid19_country.csv','w') # open new file, make sure path to your data file is correctf = open('worldometers_covid19_country.csv','w') # open new file, make sure path to your data file is correct\n",
    "f.write(\"No\\tCountry\\tTotal Case\\tNew Case\\tTotal Deaths\\tNew Deaths\\tTotal Recovered\\tActive Case\\tSerious, Critical\\tTot Cases/1M pop\\tDeaths/1M pop\\tTotal Tests\\tTests/1M pop\\tPopulation\\tContinent\" + \"\\n\") # write headers"
   ]
  },
  {
   "cell_type": "markdown",
   "metadata": {},
   "source": [
    "![Source Code HTML](images/code.png)"
   ]
  },
  {
   "cell_type": "code",
   "execution_count": 6,
   "metadata": {},
   "outputs": [],
   "source": [
    "# Clear HTML tag and assign to text textall\n",
    "results = []                               # Initialize array results\n",
    "textall  = '' \n",
    "for element in data:                       # Iterate over the data array\n",
    "     TAG_RE = re.compile(r'<[^>]+>')       # Prepare pattern to clean html tag from str (element) strings\n",
    "     text = TAG_RE.sub('', str(element))   # Apply pattern and clean text html tag\n",
    "     textall  = textall + text             # Add each line in the textall string\n",
    "text = textall                             # Assign to text textall"
   ]
  },
  {
   "cell_type": "code",
   "execution_count": 7,
   "metadata": {},
   "outputs": [
    {
     "data": {
      "text/plain": [
       "''"
      ]
     },
     "execution_count": 7,
     "metadata": {},
     "output_type": "execute_result"
    }
   ],
   "source": [
    "# Cleans irrelevant data from the text and assigns it to an array\n",
    "text = text.split(\"\\n\", 216)[216];                      # Delete the first 216 lines of the text\n",
    "text = text.replace(\"\\n\\n\\nTotal:\", \"Total:\")           # Remove space after string \n",
    "\n",
    "largo = len(text)                                       # Determine length of text                                    \n",
    "Total = int(text.find('Total:'))                        # Determines the position of the string Total:    \n",
    "text = text[:Total] + text[(Total+largo):]              # Removes all characters from the text starting from the string Total: to the end\n",
    "\n",
    "results = []\n",
    "results = text.split(\"\\n\")                               # Create result arrays with valid data\n",
    "\n",
    "results.pop()                                            # To remove the last item from the list  "
   ]
  },
  {
   "cell_type": "code",
   "execution_count": 8,
   "metadata": {},
   "outputs": [],
   "source": [
    "results_end = []\n",
    "i = 0\n",
    "for element in results:  # Iterate over the results array\n",
    "    i = i + 1\n",
    "    if i >= 1 and i <= 16:\n",
    "        if i != 8: \n",
    "            item = str(element)\n",
    "            item = item.strip()\n",
    "            if item == '': item = '--'  \n",
    "            results_end.append(item)\n",
    "    elif i == 19:\n",
    "        i = 0  "
   ]
  },
  {
   "cell_type": "markdown",
   "metadata": {},
   "source": [
    "Get the data No, Country, Total Case, New Case, Total Deaths, New Deaths, Total Recovered, Active Case, Serious, Critical, Tot Cases/1M pop, Deaths/1M pop, Total Tests, Tests/1M pop, Population and Continent"
   ]
  },
  {
   "cell_type": "code",
   "execution_count": 9,
   "metadata": {},
   "outputs": [],
   "source": [
    "# Iterate over the results array to get the data No, Country, Total Case, New Case, Total Deaths, New Deaths, Total Recovered, Active Case, Serious, Critical, Tot Cases/1M pop, Deaths/1M pop, Total Tests, Tests/1M pop, Population and Continent\n",
    "i = 0\n",
    "for element in results_end:  # Iterate over the results array\n",
    "    i = i + 1\n",
    "    if i == 1:         \n",
    "        item = str(element)\n",
    "        f.write(item + \"\\t\")         # Write No and add tabulator\n",
    "    if i == 2: \n",
    "        item = str(element)\n",
    "        f.write(item + \"\\t\")         # Write Country and add tabulator\n",
    "    if i == 3: \n",
    "        item = str(element)\n",
    "        f.write(item + \"\\t\")         # Write Total Case and add tabulator\n",
    "    if i == 4: \n",
    "        item = str(element)\n",
    "        f.write(item + \"\\t\")         # Write New Case and add tabulator\n",
    "    if i == 5: \n",
    "        item = str(element)\n",
    "        f.write(item + \"\\t\")         # Write Total Deaths and add tabulator\n",
    "    if i == 6: \n",
    "        item = str(element)\n",
    "        f.write(item + \"\\t\")         # Write New Deaths and add tabulator \n",
    "    if i == 7: \n",
    "        item = str(element)\n",
    "        f.write(item + \"\\t\")         # Write Total Recovered and add tabulator\n",
    "    if i == 8: \n",
    "        item = str(element)\n",
    "        f.write(item + \"\\t\")         # Write Active Case and add tabulator\n",
    "    if i == 9: \n",
    "        item = str(element)\n",
    "        f.write(item + \"\\t\")         # Write Serious, Critical and add tabulator\n",
    "    if i == 10: \n",
    "        item = str(element)\n",
    "        f.write(item + \"\\t\")         # Write Tot Cases/1M pop and add tabulator \n",
    "    if i == 11: \n",
    "        item = str(element)\n",
    "        f.write(item + \"\\t\")         # Write Deaths/1M pop and add tabulator\n",
    "    if i == 12: \n",
    "        item = str(element)\n",
    "        f.write(item + \"\\t\")         # Write Total Tests and add tabulator\n",
    "    if i == 13: \n",
    "        item = str(element)\n",
    "        f.write(item + \"\\t\")         # Write Tests/1M pop and add tabulator\n",
    "    if i == 14: \n",
    "        item = str(element)\n",
    "        f.write(item + \"\\t\")         # Write Population and add tabulator\n",
    "    if i == 15: \n",
    "        item = str(element)\n",
    "        f.write(item + \"\\t\\n\")       # Write Continent and add tabulator\n",
    "        i = 0\n"
   ]
  },
  {
   "cell_type": "code",
   "execution_count": 10,
   "metadata": {},
   "outputs": [],
   "source": [
    "# Close file\n",
    "f.close()"
   ]
  },
  {
   "cell_type": "markdown",
   "metadata": {},
   "source": [
    "![cvs data](images/cvs.png)"
   ]
  },
  {
   "cell_type": "markdown",
   "metadata": {},
   "source": [
    "## Conclusiones\n",
    "\n",
    "We used Beautiful Soup as the main tool. The major concept with Beautiful Soup is that it allows you to access elements of your page by following the CSS structures, such as grabbing all links, all headers, specific classes, or more. It is a powerful library.\n",
    "\n",
    " Once we grab elements, Python makes it easy to write the elements or relevant components of the elements into other files, such as a CSV, that can be stored in a database or opened in other software."
   ]
  },
  {
   "cell_type": "code",
   "execution_count": null,
   "metadata": {},
   "outputs": [],
   "source": []
  }
 ],
 "metadata": {
  "kernelspec": {
   "display_name": "Python 3",
   "language": "python",
   "name": "python3"
  },
  "language_info": {
   "codemirror_mode": {
    "name": "ipython",
    "version": 3
   },
   "file_extension": ".py",
   "mimetype": "text/x-python",
   "name": "python",
   "nbconvert_exporter": "python",
   "pygments_lexer": "ipython3",
   "version": "3.8.3"
  }
 },
 "nbformat": 4,
 "nbformat_minor": 2
}
